{
 "cells": [
  {
   "cell_type": "markdown",
   "metadata": {},
   "source": [
    "<!-- LOGOTIPO DO PROJETO -->\n",
    "<div style=\"display: flex; justify-content: center;\">\n",
    "   <a href=\"https://github.com/edendenis/python\">\n",
    "     <img src=\"figures/gold_edf_technology_logo_transparent_background_and_gold_name.png\" alt=\"Logo\" width=\"160\" height=\"160\">\n",
    "   </a>\n",
    "</div>\n",
    "\n",
    "<h3 align=\"center\">Configurar/instalar/usar o `Python 3.8` no `Linux Ubuntu`</h3>\n",
    "\n",
    "<!-- <div style=\"display: flex; justify-content: center;\">\n",
    "  <a href=\"https://zenodo.org/doi/10.5281/zenodo.10668919\">\n",
    "    <img src=\"https://zenodo.org/badge/758237447.svg\" alt=\"DOI\">\n",
    "  </a>\n",
    "</div> -->\n",
    "\n",
    "<p align=\"center\">\n",
    " Neste documento estão contidos os principais comandos e configurações para configurar/instalar/usar o `Google Chrome` no `Linux Ubuntu`.\n",
    " <br />\n",
    " <a href=\"https://github.com/edendenis/python\"><strong>Explore os documentos »</strong></a>\n",
    " <br />\n",
    " <br />\n",
    " <a href=\"https://github.com/edendenis/python\">Ver demonstração</a>\n",
    " ·\n",
    " <a href=\"https://github.com/edendenis/python\">Relatar bug</a>\n",
    " ·\n",
    " <a href=\"https://github.com/edendenis/python\">Solicitar recurso</a>\n",
    "</p>\n"
   ]
  },
  {
   "cell_type": "markdown",
   "metadata": {},
   "source": [
    "# Configurar/instalar/usar o `Python 3.8` no `Linux Ubuntu`\n",
    "\n",
    "## Resumo\n",
    "\n",
    "Neste documento estão contidos os principais comandos e configurações para configurar/instalar/usar o `Python 3.8` no `Linux Ubuntu`.\n",
    "\n",
    "## _Abstract_\n",
    "\n",
    "_In this document are contained the main commands and settings to set up/install the `Python 3.8` on `Linux Ubuntu`._\n"
   ]
  },
  {
   "cell_type": "markdown",
   "metadata": {},
   "source": [
    "### Construído com\n",
    "\n",
    "Esta seção deve listar todas as principais estruturas/bibliotecas usadas para inicializar seu projeto. Deixe quaisquer complementos/plugins para a seção de agradecimentos. Aqui estão alguns exemplos.\n",
    "\n",
    "* [![Python 3.8](https://img.shields.io/badge/Python%203.8-3776AB?style=flat-square&logo=python&logoColor=white)](https://www.python.org/)\n",
    "* [![Anaconda](https://img.shields.io/badge/Anaconda-44A833?style=flat-square&logo=anaconda&logoColor=white)](https://www.anaconda.com/)\n",
    "\n",
    "<p align=\"right\">(<a href=\"#readme-top\">voltar ao topo</a>)</p>\n"
   ]
  },
  {
   "cell_type": "markdown",
   "metadata": {},
   "source": [
    "<!-- COMEÇANDO -->\n",
    "### Começando\n",
    "\n",
    "Este é um exemplo de como você pode dar instruções sobre como configurar seu projeto localmente.\n",
    "Para obter uma cópia local instalada e funcionando, siga estas etapas simples de exemplo.\n",
    "\n",
    "### Pré-requisitos\n",
    "\n",
    "Este é um exemplo de como listar os itens necessários para usar o software e como instalá-los.\n",
    "* Python 3.8\n",
    "* Anaconda 24.1.0\n",
    "* Git\n",
    "* IDE para executar o arquivo `.ipynb` (PyCharm, Spyder, VS Code etc.)\n",
    "\n",
    "<p align=\"right\">(<a href=\"#readme-top\">voltar ao topo</a>)</p>\n"
   ]
  },
  {
   "cell_type": "markdown",
   "metadata": {},
   "source": [
    "## Descrição [2]\n",
    "\n",
    "### `Python`\n",
    "\n",
    "O `Python` é uma linguagem de programação de alto nível, interpretada e multiparadigma, conhecida por sua simplicidade e legibilidade. Criada por Guido van Rossum e lançada em 1991, `Python` oferece uma sintaxe clara e concisa, tornando-a ideal para iniciantes e experientes. Sua ampla biblioteca padrão e vasta comunidade de desenvolvedores facilitam a criação de uma variedade de aplicativos, desde scripts simples até aplicativos web complexos, aprendizado de máquina e ciência de dados. `Python` é valorizado por sua portabilidade, interoperabilidade e escalabilidade, sendo uma escolha popular em muitas áreas da computação e além."
   ]
  },
  {
   "cell_type": "markdown",
   "metadata": {},
   "source": [
    "## 1. Como configurar/instalar/usar o `Python` no `Linux Ubuntu` [1]\n",
    "\n",
    "Para configurar/instalar/usar o `Python` no `Linux Ubuntu`, você pode seguir estes passos:\n",
    "\n",
    "1. Abra o `Terminal Emulator`. Você pode fazer isso pressionando: `Ctrl + Alt + T`"
   ]
  },
  {
   "cell_type": "markdown",
   "metadata": {},
   "source": [
    "2. Certifique-se de que seu sistema esteja limpo e atualizado.\n",
    "\n",
    "    2.1 Limpar o `cache` do gerenciador de pacotes `apt`. Especificamente, ele remove todos os arquivos de pacotes (`.deb`) baixados pelo `apt` e armazenados em `/var/cache/apt/archives/`. Digite o seguinte comando: `sudo apt clean` \n",
    "    \n",
    "    2.2 Remover pacotes `.deb` antigos ou duplicados do cache local. É útil para liberar espaço, pois remove apenas os pacotes que não podem mais ser baixados (ou seja, versões antigas de pacotes que foram atualizados). Digite o seguinte comando: `sudo apt autoclean`\n",
    "\n",
    "    2.3 Remover pacotes que foram automaticamente instalados para satisfazer as dependências de outros pacotes e que não são mais necessários. Digite o seguinte comando: `sudo apt autoremove -y`\n",
    "\n",
    "    2.4 Buscar as atualizações disponíveis para os pacotes que estão instalados em seu sistema. Digite o seguinte comando e pressione `Enter`: `sudo apt update`\n",
    "\n",
    "    2.5 **Corrigir pacotes quebrados**: Isso atualizará a lista de pacotes disponíveis e tentará corrigir pacotes quebrados ou com dependências ausentes: `sudo apt --fix-broken install`\n",
    "\n",
    "    2.6 Limpar o `cache` do gerenciador de pacotes `apt`. Especificamente, ele remove todos os arquivos de pacotes (`.deb`) baixados pelo `apt` e armazenados em `/var/cache/apt/archives/`. Digite o seguinte comando: `sudo apt clean` \n",
    "    \n",
    "    2.7 Para ver a lista de pacotes a serem atualizados, digite o seguinte comando e pressione `Enter`:  `sudo apt list --upgradable`\n",
    "\n",
    "    2.8 Realmente atualizar os pacotes instalados para as suas versões mais recentes, com base na última vez que você executou `sudo apt update`. Digite o seguinte comando e pressione `Enter`: `sudo apt full-upgrade -y`\n",
    "    "
   ]
  },
  {
   "cell_type": "markdown",
   "metadata": {},
   "source": [
    "3. Baixe a versão desejada do python em: <https://www.python.org/>\n"
   ]
  },
  {
   "cell_type": "markdown",
   "metadata": {},
   "source": [
    "Para instalar um arquivo `.tar.xz` ou `.tgz`, você geralmente precisará descompactar o arquivo e, dependendo do conteúdo, compilar e instalar os programas ou bibliotecas. Vou detalhar os passos para ambas as extensões, considerando que você está utilizando um sistema baseado em Linux:\n",
    "\n",
    "### 1.1 Para um arquivo `.tar.xz`:\n",
    "\n",
    "1. Abra o `Terminal Emulator`.\n",
    "\n",
    "2. **Descompacte o arquivo usando o comando `tar`:** `sudo tar -xf <arquivo>.tar.xz`\n",
    "\n",
    "    Substitua `<arquivo>` pelo nome do seu arquivo.\n",
    "\n",
    "3. **Navegue até o diretório descompactado:** `cd <nome_do_diretorio>`\n",
    "\n",
    "    Substitua `<nome_do_diretorio>` pelo nome do diretório criado após a descompactação.\n",
    "\n",
    "4. Leia qualquer arquivo de instrução como `README` ou `INSTALL` para entender o processo de instalação específico do software.\n",
    "\n",
    "5. **Instalar o `make`**: O `make` pode ser instalado com o comando: `sudo apt install make -y`\n",
    "\n",
    "6. **Instale o compilador C e outras ferramentas necessárias:**: `sudo apt install build-essential -y`\n",
    "\n",
    "7. **Instalar o `gcc`**: `sudo apt install gcc -y`\n",
    "\n",
    "8. **Verificar se o GCC está instalado**: Você pode verificar se o GCC foi instalado corretamente com o seguinte comando: `gcc --version`\n",
    "\n",
    "    Se este comando retornar informações sobre a versão do GCC, significa que o compilador está instalado.\n",
    "\n",
    "9. Geralmente, você seguirá os passos de configuração, compilação e instalação: `./configure --enable-optimizations  # antes era somente ./configure`\n",
    "\n",
    "10. **Compile e instale o Python:** Após configurar, compile o código fonte e instale-o com os seguintes comandos:\n",
    "\n",
    "    ```\n",
    "    make -j 8  # Onde `8` é o número de núcleos que você deseja usar para a compilação\n",
    "    sudo make altinstall \n",
    "    ```\n",
    "\n",
    "    Usar `make altinstall` em vez de `make install` previne que esta versão do `Python` substitua a versão padrão do sistema.\n",
    "\n",
    "11. **Verifique a instalação:** Após a instalação, verifique se o `Python` foi instalado corretamente com o comando: `python3.8 --version`\n",
    "\n",
    "Se tudo correu bem, este comando deve retornar a versão do `Python` que você acabou de instalar.\n",
    "\n",
    "Esses passos devem ajudá-lo a instalar o `Python 3.8.10` no seu sistema Linux. Note que as etapas específicas podem variar ligeiramente dependendo da sua distribuição `Linux`.\n"
   ]
  },
  {
   "cell_type": "markdown",
   "metadata": {
    "vscode": {
     "languageId": "plaintext"
    }
   },
   "source": [
    "### 1.1 Adicionar o `Python` ao `$PATH` do `Linux Ubuntu`\n",
    "\n",
    "O executável do `Python` pode não ser encontrado porque não foi adicionado ao seu `$PATH`. O `$PATH` é uma variável de ambiente que diz ao sistema onde procurar por programas executáveis. Quando você compila e instala o `Python` a partir do código fonte, geralmente ele é instalado em `/usr/local/bin`, a menos que você especifique um local diferente.\n",
    "\n",
    "#### 1.1.1 Passos para resolver o problema\n",
    "    \n",
    "    1. Verifique se o `Python` está instalado em `/usr/local/bin`: Você pode verificar isso com o seguinte comando: `ls /usr/local/bin | grep python`\n",
    "\n",
    "    Procure por algo como `python3.8` ou apenas `python` se você criou um link simbólico.\n",
    "\n",
    "    2. Verifique a sua variável `$PATH`: `echo $PATH`\n",
    "\n",
    "    Certifique-se de que `/usr/local/bin` está incluído. Se não estiver, você precisará adicionar esse diretório ao seu `$PATH`.\n",
    "    \n",
    "    3. Adicionar `/usr/local/bin` ao seu `$PATH`: Se `/usr/local/bin` não estiver no seu `$PATH`, você pode adicionar temporariamente com o comando: `export PATH=$PATH:/usr/local/bin`\n",
    "\n",
    "    Para tornar essa mudança permanente, adicione a linha acima ao final do seu arquivo `~/.bashrc` ou `~/.profile` (dependendo do seu shell e configurações) e depois recarregue o arquivo com: `source ~/.bashrc`\n",
    "    \n",
    "    ou reinicie o terminal.\n",
    "    \n",
    "    4. Criar um link simbólico para `python`: Muitas distribuições já têm o comando `python` apontando para `python3`. Se o seu não tem e você instalou uma versão específica, como `python3.8`, você pode criar um link simbólico para `python`: `sudo ln -s /usr/local/bin/python3.8 /usr/local/bin/python`\n",
    "\n",
    "    5. Verificar novamente: Após adicionar `/usr/local/bin` ao seu `$PATH` ou criar o link simbólico, tente novamente: `python --version`\n",
    "\n",
    "    Se após seguir esses passos o `Python` ainda não for reconhecido, verifique novamente se você seguiu todos os passos corretamente e se o `Python` foi de fato instalado em `/usr/local/bin`. Se o problema persistir, pode valer a pena verificar novamente o processo de instalação ou o config.log para eventuais erros durante a instalação."
   ]
  },
  {
   "cell_type": "markdown",
   "metadata": {
    "vscode": {
     "languageId": "plaintext"
    }
   },
   "source": [
    "## 2. Código completo para configurar/instalar/usar\n",
    "\n",
    "Para configurar/instalar/usar o `Python` no `Linux Ubuntu` sem precisar digitar linha por linha, você pode seguir estas etapas:\n",
    "\n",
    "1. Abra o `Terminal Emulator`. Você pode fazer isso pressionando: `Ctrl + Alt + T`\n",
    "\n",
    "2. Digite o seguinte comando e pressione `Enter`:\n",
    "\n",
    "    ```\n",
    "    NÂO há.\n",
    "    ```\n"
   ]
  },
  {
   "cell_type": "markdown",
   "metadata": {},
   "source": [
    "<!-- LICENÇA -->\n",
    "## Licença\n",
    "\n",
    "Distribuído sob a licença MIT. Consulte `LICENSE.txt` para obter mais informações.\n",
    "\n",
    "<p align=\"right\">(<a href=\"#readme-top\">voltar ao topo</a>)</p>"
   ]
  },
  {
   "cell_type": "markdown",
   "metadata": {},
   "source": [
    "<!-- ROTEIRO -->\n",
    "## Roteiro\n",
    "\n",
    "- [x] Adicionar registro de alterações\n",
    "- [x] Adicionar links de volta ao topo\n",
    "- [x] Adicionar modelos adicionais com exemplos\n",
    "- [x] Suporte multilíngue\n",
    "     - [ ] Espanhol\n",
    "     - [ ] Inglês\n",
    "     - [ ] Português\n",
    "     - [x] Português brasileiro \n",
    "\n",
    "Consulte os [problemas abertos](https://github.com/edendenis/google_chrome/issues) para obter uma lista completa dos recursos propostos (e problemas conhecidos).\n",
    "\n",
    "<p align=\"right\">(<a href=\"#readme-top\">voltar ao topo</a>)</p>\n"
   ]
  },
  {
   "cell_type": "markdown",
   "metadata": {},
   "source": [
    "<!-- CONTRIBUIÇÔES -->\n",
    "## Contribuições\n",
    "\n",
    "As contribuições são o que tornam a comunidade de código aberto um lugar incrível para aprender, inspirar e criar. Qualquer contribuição que você fizer será **muito apreciada**.\n",
    "\n",
    "Se você tiver uma sugestão que possa melhorar isso, bifurque o repositório e crie uma solicitação `pull`. Você também pode simplesmente abrir um problema com a tag “aprimoramento”.\n",
    "Não se esqueça de dar uma estrela ao projeto! Obrigado novamente!\n",
    "\n",
    "1. Bifurque o projeto\n",
    "2. Crie sua ramificação de recursos (`git checkout -b feature/AmazingFeature`)\n",
    "3. Confirme suas alterações (`git commit -m 'Add some AmazingFeature'`)\n",
    "4. Envie para a filial (`git push origin feature/AmazingFeature`)\n",
    "5. Abra uma solicitação pull\n",
    "\n",
    "<p align=\"right\">(<a href=\"#readme-top\">voltar ao topo</a>)</p>\n"
   ]
  },
  {
   "cell_type": "markdown",
   "metadata": {},
   "source": [
    "<!-- ACKNOWLEDGMENTS -->\n",
    "## Agradecimentos\n",
    "\n",
    "* [Best README Template](https://github.com/othneildrew/Best-README-Template?tab=readme-ov-file)\n",
    "* [Choose an Open Source License](https://choosealicense.com)\n",
    "* [GitHub Emoji Cheat Sheet](https://www.webpagefx.com/tools/emoji-cheat-sheet)\n",
    "* [Malven's Flexbox Cheatsheet](https://flexbox.malven.co/)\n",
    "* [Malven's Grid Cheatsheet](https://grid.malven.co/)\n",
    "* [Img Shields](https://shields.io)\n",
    "* [GitHub Pages](https://pages.github.com)\n",
    "* [Font Awesome](https://fontawesome.com)\n",
    "* [React Icons](https://react-icons.github.io/react-icons/search)\n",
    "\n",
    "<p align=\"right\">(<a href=\"#readme-top\">voltar ao topo</a>)</p>\n"
   ]
  },
  {
   "cell_type": "markdown",
   "metadata": {
    "vscode": {
     "languageId": "plaintext"
    }
   },
   "source": [
    "## Referências\n",
    "\n",
    "[3] OPENAI. ***Instalar arquivos tar.xz/tgz..*** Disponível em: <https://chat.openai.com/c/0ce53031-41c5-4185-93d7-0156e1d2cb2a> (texto adaptado). Acessado em: 13/03/2024 13:47.\n",
    "\n",
    "[2] OPENAI. ***Vs code: editor popular.*** Disponível em: <https://chat.openai.com/c/b640a25d-f8e3-4922-8a3b-ed74a2657e42> (texto adaptado). Acessado em: 13/03/2024 13:48.\n",
    "\n"
   ]
  }
 ],
 "metadata": {
  "kernelspec": {
   "display_name": "Python 3",
   "language": "python",
   "name": "python3"
  },
  "language_info": {
   "codemirror_mode": {
    "name": "ipython",
    "version": 3
   },
   "file_extension": ".py",
   "mimetype": "text/x-python",
   "name": "python",
   "nbconvert_exporter": "python",
   "pygments_lexer": "ipython3",
   "version": "3.8.10"
  },
  "orig_nbformat": 4
 },
 "nbformat": 4,
 "nbformat_minor": 2
}
