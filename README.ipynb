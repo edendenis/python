{
 "cells": [
  {
   "cell_type": "markdown",
   "metadata": {},
   "source": [
    "<!-- LOGOTIPO DO PROJETO -->\n",
    "<div style=\"display: flex; justify-content: center;\">\n",
    "   <a href=\"https://github.com/edendenis/python\">\n",
    "     <img src=\"figures/gold_edf_technology_logo_transparent_background_and_gold_name.png\" alt=\"Logo\" width=\"160\" height=\"160\">\n",
    "   </a>\n",
    "</div>\n",
    "\n",
    "<h3 align=\"center\">Configurar/instalar/usar o `Python 3.8` no `Linux Ubuntu`</h3>\n",
    "\n",
    "<!-- <div style=\"display: flex; justify-content: center;\">\n",
    "  <a href=\"https://zenodo.org/doi/10.5281/zenodo.10668919\">\n",
    "    <img src=\"https://zenodo.org/badge/758237447.svg\" alt=\"DOI\">\n",
    "  </a>\n",
    "</div> -->\n",
    "\n",
    "<p align=\"center\">\n",
    " Neste documento estão contidos os principais comandos e configurações para configurar/instalar/usar o `Google Chrome` no `Linux Ubuntu`.\n",
    " <br />\n",
    " <a href=\"https://github.com/edendenis/python\"><strong>Explore os documentos »</strong></a>\n",
    " <br />\n",
    " <br />\n",
    " <a href=\"https://github.com/edendenis/python\">Ver demonstração</a>\n",
    " ·\n",
    " <a href=\"https://github.com/edendenis/python\">Relatar bug</a>\n",
    " ·\n",
    " <a href=\"https://github.com/edendenis/python\">Solicitar recurso</a>\n",
    "</p>\n"
   ]
  },
  {
   "cell_type": "markdown",
   "metadata": {},
   "source": [
    "# Configurar/instalar/usar o `Python 3.8` no `Linux Ubuntu`\n",
    "\n",
    "## Resumo\n",
    "\n",
    "Neste documento estão contidos os principais comandos e configurações para configurar/instalar/usar o `Python 3.8` no `Linux Ubuntu`.\n",
    "\n",
    "## _Abstract_\n",
    "\n",
    "_In this document are contained the main commands and settings to set up/install the `Python 3.8` on `Linux Ubuntu`._\n"
   ]
  },
  {
   "cell_type": "markdown",
   "metadata": {},
   "source": [
    "### Construído com\n",
    "\n",
    "Esta seção deve listar todas as principais estruturas/bibliotecas usadas para inicializar seu projeto. Deixe quaisquer complementos/plugins para a seção de agradecimentos. Aqui estão alguns exemplos.\n",
    "\n",
    "* [![Python 3.8](https://img.shields.io/badge/Python%203.8-3776AB?style=flat-square&logo=python&logoColor=white)](https://www.python.org/)\n",
    "\n",
    "* [![Anaconda](https://img.shields.io/badge/Anaconda-44A833?style=flat-square&logo=anaconda&logoColor=white)](https://www.anaconda.com/)\n",
    "\n",
    "* [![Jupyter Collaboration](https://img.shields.io/badge/Jupyter%20Collaboration-F37626?style=flat-square&logo=Jupyter&logoColor=white)](https://jupyter.org/)\n",
    "\n",
    "<p align=\"right\">(<a href=\"#readme-top\">voltar ao topo</a>)</p>\n"
   ]
  },
  {
   "cell_type": "markdown",
   "metadata": {},
   "source": [
    "<!-- COMEÇANDO -->\n",
    "### Começando\n",
    "\n",
    "Este é um exemplo de como você pode dar instruções sobre como configurar seu projeto localmente.\n",
    "Para obter uma cópia local instalada e funcionando, siga estas etapas simples de exemplo.\n",
    "\n",
    "### Pré-requisitos\n",
    "\n",
    "Este é um exemplo de como listar os itens necessários para usar o _software_ e como instalá-los.\n",
    "\n",
    "* Python 3.8\n",
    "\n",
    "* Anaconda 24.1.0\n",
    "\n",
    "* Git\n",
    "\n",
    "* IDE para executar o arquivo `.ipynb` (PyCharm, Spyder, VS Code etc.)\n",
    "\n",
    "<p align=\"right\">(<a href=\"#readme-top\">voltar ao topo</a>)</p>\n"
   ]
  },
  {
   "cell_type": "markdown",
   "metadata": {},
   "source": [
    "## Descrição [2]\n",
    "\n",
    "### `Python`\n",
    "\n",
    "O `Python` é uma linguagem de programação de alto nível, interpretada e multiparadigma, conhecida por sua simplicidade e legibilidade. Criada por Guido van Rossum e lançada em 1991, `Python` oferece uma sintaxe clara e concisa, tornando-a ideal para iniciantes e experientes. Sua ampla biblioteca padrão e vasta comunidade de desenvolvedores facilitam a criação de uma variedade de aplicativos, desde scripts simples até aplicativos web complexos, aprendizado de máquina e ciência de dados. `Python` é valorizado por sua portabilidade, interoperabilidade e escalabilidade, sendo uma escolha popular em muitas áreas da computação e além."
   ]
  },
  {
   "cell_type": "markdown",
   "metadata": {},
   "source": [
    "## 1. Como configurar/instalar/usar o `Python` no `Linux Ubuntu` [1]\n",
    "\n",
    "Para configurar/instalar/usar o `Python` no `Linux Ubuntu`, você pode seguir estes passos:\n",
    "\n",
    "1. Abra o `Terminal Emulator`. Você pode fazer isso pressionando: `Ctrl + Alt + T`"
   ]
  },
  {
   "cell_type": "markdown",
   "metadata": {},
   "source": [
    "2. Certifique-se de que seu sistema esteja limpo e atualizado.\n",
    "\n",
    "    2.1 Limpar o `cache` do gerenciador de pacotes `apt`. Especificamente, ele remove todos os arquivos de pacotes (`.deb`) baixados pelo `apt` e armazenados em `/var/cache/apt/archives/`. Digite o seguinte comando: `sudo apt clean` \n",
    "    \n",
    "    2.2 Remover pacotes `.deb` antigos ou duplicados do cache local. É útil para liberar espaço, pois remove apenas os pacotes que não podem mais ser baixados (ou seja, versões antigas de pacotes que foram atualizados). Digite o seguinte comando: `sudo apt autoclean`\n",
    "\n",
    "    2.3 Remover pacotes que foram automaticamente instalados para satisfazer as dependências de outros pacotes e que não são mais necessários. Digite o seguinte comando: `sudo apt autoremove -y`\n",
    "\n",
    "    2.4 Buscar as atualizações disponíveis para os pacotes que estão instalados em seu sistema. Digite o seguinte comando e pressione `Enter`: `sudo apt update`\n",
    "\n",
    "    2.5 **Corrigir pacotes quebrados**: Isso atualizará a lista de pacotes disponíveis e tentará corrigir pacotes quebrados ou com dependências ausentes: `sudo apt --fix-broken install`\n",
    "\n",
    "    2.6 Limpar o `cache` do gerenciador de pacotes `apt`. Especificamente, ele remove todos os arquivos de pacotes (`.deb`) baixados pelo `apt` e armazenados em `/var/cache/apt/archives/`. Digite o seguinte comando: `sudo apt clean` \n",
    "    \n",
    "    2.7 Para ver a lista de pacotes a serem atualizados, digite o seguinte comando e pressione `Enter`:  `sudo apt list --upgradable`\n",
    "\n",
    "    2.8 Realmente atualizar os pacotes instalados para as suas versões mais recentes, com base na última vez que você executou `sudo apt update`. Digite o seguinte comando e pressione `Enter`: `sudo apt full-upgrade -y`\n",
    "    "
   ]
  },
  {
   "cell_type": "markdown",
   "metadata": {},
   "source": [
    "3. Baixe a versão desejada do python em: <https://www.python.org/>\n"
   ]
  },
  {
   "cell_type": "markdown",
   "metadata": {},
   "source": [
    "Instalar o `Python` no `Linux Ubuntu` via `Terminal Emulator` é um processo relativamente simples. O `Linux Ubuntu` já vem com o `Python` pré-instalado, mas você pode querer instalar uma versão específica ou atualizar a existente. Aqui estão os passos para instalar o `Python` ou atualizar para uma versão específica:\n",
    "\n",
    "1. **Instalar `Python 3.x`**: Se você quiser instalar uma versão específica do `Python 3.x`, você pode especificar o número da versão. Por exemplo, para instalar o `Python 3.8`: `sudo apt install python3.8 -y`\n",
    "\n",
    "2. **Verificar a Instalação**: Para verificar se o `Python` foi instalado corretamente e qual versão está instalada, execute: `python3 --version`\n"
   ]
  },
  {
   "cell_type": "markdown",
   "metadata": {
    "vscode": {
     "languageId": "plaintext"
    }
   },
   "source": [
    "### 1.1 Adicionar o `Python` ao `$PATH` do `Linux Ubuntu`\n",
    "\n",
    "Para garantir que o comando python no `Terminal Emulator` aponte para o `Python 3` em vez de uma versão anterior (ou de não apontar para nada), você pode criar um _link_ simbólico que faz com que o comando `python` execute `python3`. Aqui está como você pode fazer isso:\n",
    "\n",
    "1. **Verificar a versão do `Python 3`**: Primeiro, verifique onde o `python3` está localizado: `which python3`\n",
    "\n",
    "    Isso retornará o caminho completo para o executável `python3`. Anote esse caminho, pois você precisará dele mais tarde. Normalmente, o caminho é algo como `/usr/bin/python3`.\n",
    "\n",
    "2. **Criar um _Link_ Simbólico**: Para criar um _link_ simbólico para que o comando `python` aponte para `python3`, use o seguinte comando: `sudo ln -s /usr/bin/python3 /usr/bin/python`\n",
    "\n",
    "    Aqui, `/usr/bin/python3` deve ser substituído pelo caminho que você obteve na etapa anterior, se for diferente.\n",
    "\n",
    "3. **Verificar a Alteração**: Verifique se o _link_ simbólico foi criado corretamente e se `python` agora aponta para o `Python 3`: `python --version`\n",
    "\n",
    "    Isso deve mostrar a versão do `Python 3`, indicando que o _link_ simbólico foi criado corretamente.\n",
    "\n",
    "4. **Verificar o _Link_ Simbólico**: Verifique se o _link_ simbólico foi criado corretamente: `ls -l /usr/bin/python`\n",
    "\n",
    "    Isso deve mostrar algo como: `lrwxrwxrwx 1 root root 16 Aug  6 12:34 /usr/bin/python -> /usr/bin/python3`\n",
    "\n",
    "    Se não estiver apontando para `/usr/bin/python3`, então o _link_ simbólico não foi criado corretamente.\n",
    "\n",
    "5. **Reinicie o `Terminal Emulator`**: Às vezes, o erminal pode não refletir mudanças imediatamente. Tente fechar e reabrir o `Terminal Emulator` ou usar o comando `hash -r `para limpar o _cache_ do caminho dos comandos.\n",
    "\n",
    "6. **Verificar a Versão**: Certifique-se de que o comando `python` está chamando a versão correta do `Python`: `python --version`\n"
   ]
  },
  {
   "cell_type": "markdown",
   "metadata": {
    "vscode": {
     "languageId": "plaintext"
    }
   },
   "source": [
    "## 1.2 Instalar o `pip` para o `Python 3.x`\n",
    "\n",
    "O `pip` pode não estar instalado automaticamente com o `Python`. Você pode instalar o `pip` usando o `apt` (o gerenciador de pacotes do `Linux Ubuntu`) ou o _script_ de instalação `get-pip.py`. Primeiro, vamos tentar instalar o `pip` usando `apt`.\n",
    "\n",
    "1. **Atualizar o Sistema**: Certifique-se de que seu sistema está atualizado:\n"
   ]
  },
  {
   "cell_type": "markdown",
   "metadata": {},
   "source": [
    "2. Certifique-se de que seu sistema esteja limpo e atualizado.\n",
    "\n",
    "    2.1 Limpar o `cache` do gerenciador de pacotes `apt`. Especificamente, ele remove todos os arquivos de pacotes (`.deb`) baixados pelo `apt` e armazenados em `/var/cache/apt/archives/`. Digite o seguinte comando: `sudo apt clean` \n",
    "    \n",
    "    2.2 Remover pacotes `.deb` antigos ou duplicados do cache local. É útil para liberar espaço, pois remove apenas os pacotes que não podem mais ser baixados (ou seja, versões antigas de pacotes que foram atualizados). Digite o seguinte comando: `sudo apt autoclean`\n",
    "\n",
    "    2.3 Remover pacotes que foram automaticamente instalados para satisfazer as dependências de outros pacotes e que não são mais necessários. Digite o seguinte comando: `sudo apt autoremove -y`\n",
    "\n",
    "    2.4 Buscar as atualizações disponíveis para os pacotes que estão instalados em seu sistema. Digite o seguinte comando e pressione `Enter`: `sudo apt update`\n",
    "\n",
    "    2.5 **Corrigir pacotes quebrados**: Isso atualizará a lista de pacotes disponíveis e tentará corrigir pacotes quebrados ou com dependências ausentes: `sudo apt --fix-broken install`\n",
    "\n",
    "    2.6 Limpar o `cache` do gerenciador de pacotes `apt`. Especificamente, ele remove todos os arquivos de pacotes (`.deb`) baixados pelo `apt` e armazenados em `/var/cache/apt/archives/`. Digite o seguinte comando: `sudo apt clean` \n",
    "    \n",
    "    2.7 Para ver a lista de pacotes a serem atualizados, digite o seguinte comando e pressione `Enter`:  `sudo apt list --upgradable`\n",
    "\n",
    "    2.8 Realmente atualizar os pacotes instalados para as suas versões mais recentes, com base na última vez que você executou `sudo apt update`. Digite o seguinte comando e pressione `Enter`: `sudo apt full-upgrade -y`\n",
    "    "
   ]
  },
  {
   "cell_type": "markdown",
   "metadata": {
    "vscode": {
     "languageId": "plaintext"
    }
   },
   "source": [
    "3. **Instalar o `pip`**: Tente instalar o `pip` para `Python 3` usando o seguinte comando: `sudo apt install python3-pip -y`\n",
    "\n",
    "4. **Verificar a Instalação do `pip`**: Depois de instalar o `pip`, verifique se está funcionando: `pip3 --version`\n",
    "\n",
    "Isso deve mostrar a versão do `pip` instalada."
   ]
  },
  {
   "cell_type": "markdown",
   "metadata": {
    "vscode": {
     "languageId": "plaintext"
    }
   },
   "source": [
    "## 2. Código completo para configurar/instalar/usar\n",
    "\n",
    "Para configurar/instalar/usar o `Python` no `Linux Ubuntu` sem precisar digitar linha por linha, você pode seguir estas etapas:\n",
    "\n",
    "1. Abra o `Terminal Emulator`. Você pode fazer isso pressionando: `Ctrl + Alt + T`\n",
    "\n",
    "2. Digite o seguinte comando e pressione `Enter`:\n",
    "\n",
    "    ```\n",
    "    NÂO há.\n",
    "    ```\n"
   ]
  },
  {
   "cell_type": "markdown",
   "metadata": {},
   "source": [
    "<!-- LICENÇA -->\n",
    "## Licença\n",
    "\n",
    "Distribuído sob a licença MIT. Consulte `LICENSE.txt` para obter mais informações.\n",
    "\n",
    "<p align=\"right\">(<a href=\"#readme-top\">voltar ao topo</a>)</p>"
   ]
  },
  {
   "cell_type": "markdown",
   "metadata": {},
   "source": [
    "<!-- ROTEIRO -->\n",
    "## Roteiro\n",
    "\n",
    "- [x] Adicionar registro de alterações\n",
    "\n",
    "- [x] Adicionar links de volta ao topo\n",
    "\n",
    "- [x] Adicionar modelos adicionais com exemplos\n",
    "\n",
    "- [x] Suporte multilíngue\n",
    "\n",
    "     - [ ] Espanhol\n",
    "\n",
    "     - [ ] Inglês\n",
    "\n",
    "     - [ ] Português\n",
    "     \n",
    "     - [x] Português brasileiro \n",
    "\n",
    "Consulte os [problemas abertos](https://github.com/edendenis/google_chrome/issues) para obter uma lista completa dos recursos propostos (e problemas conhecidos).\n",
    "\n",
    "<p align=\"right\">(<a href=\"#readme-top\">voltar ao topo</a>)</p>\n"
   ]
  },
  {
   "cell_type": "markdown",
   "metadata": {},
   "source": [
    "<!-- CONTRIBUIÇÔES -->\n",
    "## Contribuições\n",
    "\n",
    "As contribuições são o que tornam a comunidade de código aberto um lugar incrível para aprender, inspirar e criar. Qualquer contribuição que você fizer será **muito apreciada**.\n",
    "\n",
    "Se você tiver uma sugestão que possa melhorar isso, bifurque o repositório e crie uma solicitação `pull`. Você também pode simplesmente abrir um problema com a tag “aprimoramento”.\n",
    "Não se esqueça de dar uma estrela ao projeto! Obrigado novamente!\n",
    "\n",
    "1. Bifurque o projeto\n",
    "\n",
    "2. Crie sua ramificação de recursos (`git checkout -b feature/AmazingFeature`)\n",
    "\n",
    "3. Confirme suas alterações (`git commit -m 'Add some AmazingFeature'`)\n",
    "\n",
    "4. Envie para a filial (`git push origin feature/AmazingFeature`)\n",
    "\n",
    "5. Abra uma solicitação `pull`\n",
    "\n",
    "<p align=\"right\">(<a href=\"#readme-top\">voltar ao topo</a>)</p>\n"
   ]
  },
  {
   "cell_type": "markdown",
   "metadata": {},
   "source": [
    "<!-- ACKNOWLEDGMENTS -->\n",
    "## Agradecimentos\n",
    "\n",
    "* [Best README Template](https://github.com/othneildrew/Best-README-Template?tab=readme-ov-file)\n",
    "\n",
    "* [Choose an Open Source License](https://choosealicense.com)\n",
    "\n",
    "* [GitHub Emoji Cheat Sheet](https://www.webpagefx.com/tools/emoji-cheat-sheet)\n",
    "\n",
    "* [Malven's Flexbox Cheatsheet](https://flexbox.malven.co/)\n",
    "\n",
    "* [Malven's Grid Cheatsheet](https://grid.malven.co/)\n",
    "\n",
    "* [Img Shields](https://shields.io)\n",
    "\n",
    "* [GitHub Pages](https://pages.github.com)\n",
    "\n",
    "* [Font Awesome](https://fontawesome.com)\n",
    "\n",
    "* [React Icons](https://react-icons.github.io/react-icons/search)\n",
    "\n",
    "<p align=\"right\">(<a href=\"#readme-top\">voltar ao topo</a>)</p>\n"
   ]
  },
  {
   "cell_type": "markdown",
   "metadata": {
    "vscode": {
     "languageId": "plaintext"
    }
   },
   "source": [
    "## Referências\n",
    "\n",
    "[3] OPENAI. ***Instalar o python no ubuntu.*** Disponível em: <https://chat.openai.com/c/0ce53031-41c5-4185-93d7-0156e1d2cb2a> (texto adaptado). Acessado em: 13/03/2024 13:47.\n",
    "\n",
    "[2] OPENAI. ***Vs code: editor popular.*** Disponível em: <https://chat.openai.com/c/b640a25d-f8e3-4922-8a3b-ed74a2657e42> (texto adaptado). Acessado em: 13/03/2024 13:48.\n",
    "\n"
   ]
  }
 ],
 "metadata": {
  "kernelspec": {
   "display_name": "Python 3",
   "language": "python",
   "name": "python3"
  },
  "language_info": {
   "codemirror_mode": {
    "name": "ipython",
    "version": 3
   },
   "file_extension": ".py",
   "mimetype": "text/x-python",
   "name": "python",
   "nbconvert_exporter": "python",
   "pygments_lexer": "ipython3",
   "version": "3.8.10"
  },
  "orig_nbformat": 4
 },
 "nbformat": 4,
 "nbformat_minor": 2
}
